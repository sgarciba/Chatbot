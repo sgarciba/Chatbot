{
  "nbformat": 4,
  "nbformat_minor": 0,
  "metadata": {
    "kernelspec": {
      "display_name": "Python 3",
      "language": "python",
      "name": "python3"
    },
    "language_info": {
      "codemirror_mode": {
        "name": "ipython",
        "version": 3
      },
      "file_extension": ".py",
      "mimetype": "text/x-python",
      "name": "python",
      "nbconvert_exporter": "python",
      "pygments_lexer": "ipython3",
      "version": "3.7.6"
    },
    "colab": {
      "name": "Chatbot.ipynb",
      "provenance": [],
      "collapsed_sections": [],
      "toc_visible": true
    },
    "accelerator": "GPU"
  },
  "cells": [
    {
      "cell_type": "markdown",
      "metadata": {
        "id": "lYkujnakJM8u"
      },
      "source": [
        "### 1| SET THE ENVIRONMENT\n"
      ]
    },
    {
      "cell_type": "code",
      "metadata": {
        "id": "upQX3LDnJM8w",
        "outputId": "19c03d30-fe02-4b56-f65e-c4861ae39b9c",
        "colab": {
          "base_uri": "https://localhost:8080/"
        }
      },
      "source": [
        "# Import packages\n",
        "import numpy as np\n",
        "import torch\n",
        "import torch.nn as nn\n",
        "from torch.utils.data import Dataset, DataLoader\n",
        "import tensorflow as tf\n",
        "import nltk\n",
        "nltk.download('punkt')\n",
        "from nltk.stem.porter import PorterStemmer\n",
        "\n",
        "from datetime import datetime\n",
        "import random\n",
        "import string\n",
        "import pandas as pd"
      ],
      "execution_count": 1,
      "outputs": [
        {
          "output_type": "stream",
          "text": [
            "[nltk_data] Downloading package punkt to /root/nltk_data...\n",
            "[nltk_data]   Unzipping tokenizers/punkt.zip.\n"
          ],
          "name": "stdout"
        }
      ]
    },
    {
      "cell_type": "code",
      "metadata": {
        "id": "7f7n7oLGclPr",
        "outputId": "f3743d3b-14f5-4e3a-e644-0f7af0d1dd63",
        "colab": {
          "base_uri": "https://localhost:8080/"
        }
      },
      "source": [
        "# Get the GPU device name\n",
        "device_name = tf.test.gpu_device_name()\n",
        "\n",
        "# The device name should look like the following:\n",
        "if device_name == '/device:GPU:0':\n",
        "    print('Found GPU at: {}'.format(device_name))\n",
        "else:\n",
        "    raise SystemError('GPU not available')"
      ],
      "execution_count": 2,
      "outputs": [
        {
          "output_type": "stream",
          "text": [
            "Found GPU at: /device:GPU:0\n"
          ],
          "name": "stdout"
        }
      ]
    },
    {
      "cell_type": "code",
      "metadata": {
        "id": "pmOiDav2cl_U",
        "outputId": "5de1d7ae-62a1-4c36-aad1-4589ae7a6996",
        "colab": {
          "base_uri": "https://localhost:8080/"
        }
      },
      "source": [
        "# If there's a GPU available...\n",
        "if torch.cuda.is_available():    \n",
        "\n",
        "    # Tell PyTorch to use the GPU   \n",
        "    device = torch.device(\"cuda\")\n",
        "\n",
        "    print('There are {} GPU(s) available.'.format(torch.cuda.device_count()))\n",
        "\n",
        "    print('GPU name:', torch.cuda.get_device_name(0))\n",
        "\n",
        "# If not, use the CPU\n",
        "else:\n",
        "    print('GPU not found, using the CPU instead.')\n",
        "    device = torch.device(\"cpu\")"
      ],
      "execution_count": 3,
      "outputs": [
        {
          "output_type": "stream",
          "text": [
            "There are 1 GPU(s) available.\n",
            "GPU name: Tesla T4\n"
          ],
          "name": "stdout"
        }
      ]
    },
    {
      "cell_type": "markdown",
      "metadata": {
        "id": "r8cnKNk2vKW6"
      },
      "source": [
        "### 2| CREATE TRAINING DATA"
      ]
    },
    {
      "cell_type": "code",
      "metadata": {
        "id": "-kimxKGeJM85"
      },
      "source": [
        "# Create a dictionary with your training data\n",
        "intents = {\n",
        "    'intents': [\n",
        "        {\n",
        "            'tag': 'greeting',\n",
        "            'patterns': [\n",
        "                'Hi',\n",
        "                'Hey',\n",
        "                'Hello',\n",
        "                'How are you',\n",
        "                'Is anyone there?',\n",
        "                'Good day'\n",
        "            ],\n",
        "            'responses': [\n",
        "                'Hey',\n",
        "                'Hello, thanks for visiting',\n",
        "                'Hi there, what can I do for you?',\n",
        "                'Hi there, how can I help?'\n",
        "            ]\n",
        "        },\n",
        "        {\n",
        "            'tag': 'goodbye',\n",
        "            'patterns': [\n",
        "                'Bye',\n",
        "                'See you later',\n",
        "                'Goodbye'\n",
        "            ],\n",
        "            'responses': [\n",
        "                'See you later, thanks for visiting',\n",
        "                'Have a nice day',\n",
        "                'Bye! Come back again soon'\n",
        "            ]\n",
        "        },\n",
        "        {\n",
        "            'tag': 'thanks',\n",
        "            'patterns': [\n",
        "                'Thanks',\n",
        "                'Thank you',\n",
        "                \"That's helpful\",\n",
        "                'Thanks a lot!'\n",
        "            ],\n",
        "            'responses': [\n",
        "                'Happy to help!',\n",
        "                'Anytime!',\n",
        "                \"My pleasure\"\n",
        "            ]\n",
        "        },\n",
        "        {\n",
        "            'tag': 'booking',\n",
        "            'patterns': [\n",
        "                'I would like to make a reservation',\n",
        "                'Can I book a room?',\n",
        "                \"I want to make a booking\"\n",
        "            ],\n",
        "            'responses': [\n",
        "                'Sure, I only need to know a few details',\n",
        "                \"Lovely. Let's begin with the reservation\"\n",
        "            ]\n",
        "        },\n",
        "        {\n",
        "            'tag': 'cancellation',\n",
        "            'patterns': [\n",
        "                'I would like to cancel my booking',\n",
        "                'Can I cancel a room?',\n",
        "                \"I want to make a cancellation\",\n",
        "                'Cancel a booking'\n",
        "            ],\n",
        "            'responses': [\n",
        "                'Sure, which is your reference number?',\n",
        "                \"I only need to know the reference number of your booking\"\n",
        "            ]\n",
        "        },\n",
        "        {\n",
        "            'tag': 'payments',\n",
        "            'patterns': [\n",
        "                'When do I have to pay?',\n",
        "                'Can I pay by card?',\n",
        "                \"Do you accept cash?\",\n",
        "                'When is the payment?'\n",
        "            ],\n",
        "            'responses': [\n",
        "                'The payment is on arrival. We accept cash and card',\n",
        "                'You can pay on arrival by cash or card'\n",
        "            ]\n",
        "        },\n",
        "        {\n",
        "            'tag': 'location',\n",
        "            'patterns': [\n",
        "                'Where is the hotel located?',\n",
        "                'Can you give me the address?',\n",
        "                \"I want to know the exact location\"\n",
        "            ],\n",
        "            'responses': [\n",
        "                'The Hollywood Hotel is located at Vine St, Los Angeles, CA 99999',\n",
        "                'You will find us at Vine St, Los Angeles, CA 99999'\n",
        "            ]\n",
        "        },\n",
        "        {\n",
        "            'tag': 'contacts',\n",
        "            'patterns': [\n",
        "                'I would like to contact the marketing department',\n",
        "                'I want to speak with someone from sales',\n",
        "                \"Can I have the email of finance?\"\n",
        "            ],\n",
        "            'responses': [\n",
        "                'Sure. To contact with them, send an email to:',\n",
        "                'Of course. The email to contact with the department is:'\n",
        "            ]\n",
        "        }\n",
        "    ]\n",
        "}"
      ],
      "execution_count": 4,
      "outputs": []
    },
    {
      "cell_type": "markdown",
      "metadata": {
        "id": "-bpAxTehJM9A"
      },
      "source": [
        "### 3| DATA PRE-PROCESSING"
      ]
    },
    {
      "cell_type": "code",
      "metadata": {
        "id": "-8AxLSoYJM9O"
      },
      "source": [
        "stemmer = PorterStemmer()\n",
        "def tokenize(sentence):\n",
        "    '''\n",
        "    This function takes a sentence as an input,\n",
        "    and returns a list of its tokens\n",
        "    '''\n",
        "    return nltk.word_tokenize(sentence)\n",
        "\n",
        "def bag_of_words(tokenized_sentence, all_words):\n",
        "    '''\n",
        "    Function to represent a sentence into a vector of float numbers\n",
        "    input: list of tokens in a sent and a list of all the words in the text\n",
        "    output: vector equal to the vocab length for each sentence\n",
        "    '''\n",
        "    tokenized_sentence = [stemmer.stem(w.lower()) for w in tokenized_sentence]\n",
        "    bag = np.zeros(len(all_words), dtype=np.float32)\n",
        "    \n",
        "    for idx, w in enumerate(all_words):\n",
        "        if w in tokenized_sentence:\n",
        "            bag[idx] = 1.0\n",
        "    \n",
        "    return bag"
      ],
      "execution_count": 5,
      "outputs": []
    },
    {
      "cell_type": "markdown",
      "metadata": {
        "id": "Lc4xgah3JM9S"
      },
      "source": [
        "### 4| BUILDING THE MODEL"
      ]
    },
    {
      "cell_type": "code",
      "metadata": {
        "id": "dlR5cVebJM9S"
      },
      "source": [
        "all_words = []\n",
        "tags = []\n",
        "xy = []\n",
        "\n",
        "# Save all the keywords in different variables\n",
        "for intent in intents['intents']:\n",
        "    tag= intent['tag']\n",
        "    tags.append(tag)\n",
        "    for pattern in intent['patterns']:\n",
        "        w = tokenize(pattern)\n",
        "        all_words.extend(w)\n",
        "        xy.append((w, tag))\n",
        "\n",
        "# Create the vocabulary\n",
        "ignore_words = ['?', '!', '.', ',']\n",
        "all_words = [stemmer.stem(w.lower()) for w in all_words if w not in ignore_words]\n",
        "all_words = sorted(set(all_words))\n",
        "tags = sorted(set(tags))"
      ],
      "execution_count": 6,
      "outputs": []
    },
    {
      "cell_type": "code",
      "metadata": {
        "id": "sfEbE8h3JM9W"
      },
      "source": [
        "# Set the final training data\n",
        "X_train = []\n",
        "y_train = []\n",
        "for (pattern_sentence, tag) in xy:\n",
        "    bag = bag_of_words(pattern_sentence, all_words)\n",
        "    X_train.append(bag)\n",
        "    label = tags.index(tag)\n",
        "    y_train.append(label)\n",
        "\n",
        "X_train = np.array(X_train)\n",
        "y_train = np.array(y_train)"
      ],
      "execution_count": 7,
      "outputs": []
    },
    {
      "cell_type": "code",
      "metadata": {
        "id": "CCaszLUFJM9Z"
      },
      "source": [
        "class ChatDataset(Dataset):\n",
        "    def __init__(self):\n",
        "        self.n_samples = len(X_train)\n",
        "        self.x_data = X_train\n",
        "        self.y_data = y_train\n",
        "        \n",
        "    def __getitem__(self, index):\n",
        "        return self.x_data[index], self.y_data[index]\n",
        "    \n",
        "    def __len__(self):\n",
        "        return self.n_samples\n"
      ],
      "execution_count": 8,
      "outputs": []
    },
    {
      "cell_type": "code",
      "metadata": {
        "id": "yWgXG9cUJM9b"
      },
      "source": [
        "class NeuralNet(nn.Module):\n",
        "    def __init__(self, input_size, hidden_size, num_classes):\n",
        "        super(NeuralNet, self).__init__()\n",
        "        self.l1 = nn.Linear(input_size, hidden_size)\n",
        "        self.l2 = nn.Linear(hidden_size, hidden_size)\n",
        "        self.l3 = nn.Linear(hidden_size, num_classes)\n",
        "        self.relu = nn.ReLU()\n",
        "        \n",
        "    def forward(self, x):\n",
        "        out = self.l1(x)\n",
        "        out = self.relu(out)\n",
        "        out = self.l2(out)\n",
        "        out = self.relu(out)\n",
        "        out = self.l3(out)\n",
        "        # no activation and no softmax\n",
        "        return out"
      ],
      "execution_count": 9,
      "outputs": []
    },
    {
      "cell_type": "code",
      "metadata": {
        "id": "3a6R-ah4JM9d"
      },
      "source": [
        "# Hyperparameters\n",
        "batch_size=8\n",
        "hidden_size=8\n",
        "output_size=len(tags)\n",
        "input_size = len(X_train[0])\n",
        "learning_rate = 0.001\n",
        "num_epochs = 1000\n",
        "\n",
        "dataset = ChatDataset()\n",
        "train_loader = DataLoader(dataset=dataset, batch_size=batch_size, shuffle=True, num_workers=2)\n",
        "\n",
        "model = NeuralNet(input_size, hidden_size, output_size).to(device)"
      ],
      "execution_count": 10,
      "outputs": []
    },
    {
      "cell_type": "code",
      "metadata": {
        "id": "dmww8Te6JM9f"
      },
      "source": [
        "# Loss and optimizer\n",
        "criterion = nn.CrossEntropyLoss()\n",
        "optimizer = torch.optim.Adam(model.parameters(), lr=learning_rate)\n"
      ],
      "execution_count": 11,
      "outputs": []
    },
    {
      "cell_type": "code",
      "metadata": {
        "id": "3pwLVRwKJM9i",
        "outputId": "a3e47c06-d502-435e-f0bf-76f6f6994f6f",
        "colab": {
          "base_uri": "https://localhost:8080/"
        }
      },
      "source": [
        "for epoch in range(num_epochs):\n",
        "  for (words, labels) in train_loader:\n",
        "    words = words.to(device)\n",
        "    labels = labels.to(device)\n",
        "\n",
        "    # Forward\n",
        "    outputs = model(words)\n",
        "    loss = criterion(outputs,labels)\n",
        "\n",
        "    # Backward and optimizer\n",
        "    optimizer.zero_grad()\n",
        "    loss.backward()\n",
        "    optimizer.step()\n",
        "    \n",
        "  if (epoch + 1) % 100 == 0:\n",
        "    print(f'epoch {epoch + 1}/{num_epochs}, loss = {loss.item():.4f}')\n",
        "\n",
        "print(f'final loss, loss = {loss.item():.4f}')\n",
        "    "
      ],
      "execution_count": 12,
      "outputs": [
        {
          "output_type": "stream",
          "text": [
            "epoch 100/1000, loss = 0.6723\n",
            "epoch 200/1000, loss = 0.0588\n",
            "epoch 300/1000, loss = 0.0197\n",
            "epoch 400/1000, loss = 0.0074\n",
            "epoch 500/1000, loss = 0.0050\n",
            "epoch 600/1000, loss = 0.0012\n",
            "epoch 700/1000, loss = 0.0021\n",
            "epoch 800/1000, loss = 0.0007\n",
            "epoch 900/1000, loss = 0.0008\n",
            "epoch 1000/1000, loss = 0.0004\n",
            "final loss, loss = 0.0004\n"
          ],
          "name": "stdout"
        }
      ]
    },
    {
      "cell_type": "markdown",
      "metadata": {
        "id": "msqxyRTYNdm-"
      },
      "source": [
        "### 5| IMPLEMENT CHATBOT"
      ]
    },
    {
      "cell_type": "code",
      "metadata": {
        "id": "orUD3TZhZIMt"
      },
      "source": [
        "all_bookings = pd.DataFrame()\n",
        "\n",
        "class Customer:\n",
        "    \n",
        "    rate = 99.00\n",
        "    \n",
        "    def __init__(self, name, dates, room, service):\n",
        "        self.name = name\n",
        "        self.dates = (datetime.strptime(dates[0], '%d/%m/%Y').date(), datetime.strptime(dates[1], '%d/%m/%Y').date())\n",
        "        self.room = room\n",
        "        self.service = service\n",
        "        \n",
        "    def ID(self):\n",
        "        letters = string.ascii_uppercase\n",
        "        digits = string.digits\n",
        "        a = random.sample(letters, 3) + random.sample(digits, 4)\n",
        "        self.id = ''.join(a)\n",
        "        \n",
        "    def nights(self):\n",
        "        nights = (self.dates[1] - self.dates[0]).days\n",
        "        return nights\n",
        "    \n",
        "    def final_price(self):\n",
        "        price = self.rate * float(self.nights())\n",
        "        return price\n",
        "    \n",
        "    def __str__(self):\n",
        "        return f'''\n",
        "        > Mr./Miss. {self.name[1]}, \n",
        "        >\n",
        "        > We are delighted to confirm your booking with us for the {self.dates[0]} till the {self.dates[1]}. \n",
        "        > A {self.room} with {self.service} for the final rate of £{self.rate} per night. \n",
        "        > Total price: £{self.final_price()}\n",
        "        > Your reference number is {self.id}. \n",
        "        > Keep this number in case you want to modify or cancel your booking in the future.\n",
        "        >\n",
        "        > Best,\n",
        "        > The Hollywood Hotel\n",
        "        '''      "
      ],
      "execution_count": 13,
      "outputs": []
    },
    {
      "cell_type": "code",
      "metadata": {
        "id": "gXgTJLZEaqTO"
      },
      "source": [
        "departments = {\n",
        "    'marketing': ['marketing', 'seo', 'community manager'],\n",
        "    'sales': ['reservations', 'sales', 'booking'],\n",
        "    'accountancy': ['accountancy', 'finance', 'purchase']\n",
        "}"
      ],
      "execution_count": 14,
      "outputs": []
    },
    {
      "cell_type": "code",
      "metadata": {
        "id": "6gSQSiVL_Ke9"
      },
      "source": [
        "def contact_dept(user_sent, departments):\n",
        "  '''\n",
        "  Takes the sentence and all the departments as input \n",
        "  and returns the department email that the user wants to be contact with.\n",
        "  '''\n",
        "  email = None\n",
        "  for k,v in departments.items():\n",
        "    for d in user_sent:\n",
        "      if d in v:\n",
        "        email = f'{k}@hollywoodhotel.com'\n",
        "  return email"
      ],
      "execution_count": 15,
      "outputs": []
    },
    {
      "cell_type": "code",
      "metadata": {
        "id": "oY3FaT2BNM8O",
        "outputId": "8a71818d-4ef4-4d0e-eaf0-4fa8108aba6e",
        "colab": {
          "base_uri": "https://localhost:8080/"
        }
      },
      "source": [
        "model_dic = model.state_dict()\n",
        "model = NeuralNet(input_size, hidden_size, output_size)\n",
        "model.load_state_dict(model_dic)\n",
        "model.eval()\n",
        "\n",
        "bot_name = 'Bot '\n",
        "print(\"Let's chat: type 'quit' to exit\")\n",
        "\n",
        "while True:\n",
        "  sentence = input('You: ')\n",
        "  if sentence == 'quit':\n",
        "    break\n",
        "\n",
        "  sentence = tokenize(sentence)\n",
        "  X = bag_of_words(sentence, all_words)\n",
        "  X = X.reshape(1, X.shape[0])\n",
        "  X = torch.from_numpy(X)\n",
        "\n",
        "  output = model(X)\n",
        "  _,predicted = torch.max(output, dim=1)\n",
        "  tag = tags[predicted.item()]\n",
        "\n",
        "  probs = torch.softmax(output, dim=1)\n",
        "  prob = probs[0][predicted.item()]\n",
        "\n",
        "  if prob.item() > 0.75:\n",
        "    for intent in intents['intents']:\n",
        "      if tag == intent['tag']:\n",
        "\n",
        "        if tag == 'booking':\n",
        "            print(f\"{bot_name}: {random.choice(intent['responses'])}\")\n",
        "            # Stage 1: Customer's Name\n",
        "            f_name = input('\\tFirst Name: ')\n",
        "            l_name = input('\\tLast Name: ')\n",
        "\n",
        "            # Stage 2: Booking Dates\n",
        "            arr = input('\\tArrival day (DD/MM/YYYY): ')\n",
        "            dep = input('\\tDeparture day (DD/MM/YYYY): ')\n",
        "\n",
        "            # Stage 3: Room and service\n",
        "            room = input('\\tWhich type of room are you looking for?: ')\n",
        "            service = input('\\tWhich service do you prefer?: ')\n",
        "\n",
        "            # Stage 4: Confirmation and Final Rate\n",
        "            c1 = Customer((f_name, l_name), (arr, dep), room, service)\n",
        "            c1.ID()\n",
        "            all_bookings = all_bookings.append(c1.__dict__, ignore_index=True)\n",
        "            print(c1)\n",
        "        \n",
        "        elif tag == 'cancellation':\n",
        "            print(f\"{bot_name}: {random.choice(intent['responses'])}\")\n",
        "            ref_num = input('\\tReference number: ')\n",
        "            if ref_num in all_bookings['id'].values:\n",
        "              all_bookings = all_bookings.drop(all_bookings['id'][all_bookings['id'] == ref_num].index)\n",
        "              print('Your reservation has been canceled.')\n",
        "            else:\n",
        "              print('This reference number does not exist.')\n",
        "\n",
        "        elif tag == 'contacts':\n",
        "          contact_email = contact_dept(sentence, departments)\n",
        "          if contact_email != None:\n",
        "            print(f\"{bot_name}: {random.choice(intent['responses'])} {contact_email}\")\n",
        "          else: \n",
        "            print('Unfortunately this department does not exist.')\n",
        "        else:\n",
        "          print(f\"{bot_name}: {random.choice(intent['responses'])}\")\n",
        "  else:\n",
        "    print(f'{bot_name}: I do not understand...')"
      ],
      "execution_count": 16,
      "outputs": [
        {
          "output_type": "stream",
          "text": [
            "Let's chat: type 'quit' to exit\n",
            "You: Hi\n",
            "Bot : Hey\n",
            "You: Can I have the contact of the marketing department?\n",
            "Bot : Of course. The email to contact with the department is: marketing@hollywoodhotel.com\n",
            "You: Thanks!\n",
            "Bot : My pleasure\n",
            "You: Which is the address of the hotel?\n",
            "Bot : You will find us at Vine St, Los Angeles, CA 99999\n",
            "You: Great\n",
            "Bot : I do not understand...\n",
            "You: Bye!\n",
            "Bot : See you later, thanks for visiting\n",
            "You: quit\n"
          ],
          "name": "stdout"
        }
      ]
    }
  ]
}